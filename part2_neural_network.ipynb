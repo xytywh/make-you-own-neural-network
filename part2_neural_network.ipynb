{
 "cells": [
  {
   "cell_type": "code",
   "execution_count": 1,
   "metadata": {
    "collapsed": true
   },
   "outputs": [],
   "source": [
    "# python notebook for Make Your Own Neural Network\n",
    "# xytywh, 2019/06/18"
   ]
  },
  {
   "cell_type": "code",
   "execution_count": 2,
   "metadata": {
    "collapsed": true
   },
   "outputs": [],
   "source": [
    "import numpy as np\n",
    "# scipy.special for the sigmoid function expit()\n",
    "import scipy.special"
   ]
  },
  {
   "cell_type": "code",
   "execution_count": 3,
   "metadata": {
    "collapsed": true
   },
   "outputs": [],
   "source": [
    "# neural network class definition\n",
    "# 神经网络类定义\n",
    "class neuralNetwork:\n",
    "    \n",
    "    \n",
    "    # initialise the neural network\n",
    "    # 初始化神经网络\n",
    "    def __init__(self, inputnodes, hiddennodes, outputnodes, learningrate):\n",
    "        # set number of nodes in each input, hidden, output layer\n",
    "        # 设置每一个输入层、隐藏层、输出层的结点个数\n",
    "        self.inodes = inputnodes\n",
    "        self.hnodes = hiddennodes\n",
    "        self.onodes = outputnodes\n",
    "        \n",
    "        # link weight matrices, wih and who\n",
    "        # weights inside the arrays are w_i_j, where link is from node i to node j in the next layer\n",
    "        # w11 w21\n",
    "        # w12 w22 etc \n",
    "        # 在输入层与隐藏层之间的链接权重矩阵Wih，大小为hnodes乘以inodes\n",
    "        # 在隐藏层和输出层之间的链接权重矩阵Who，大小为hnodes乘以onodes\n",
    "        \n",
    "        # self.wih = (np.random.rand(self.hnodes, self.inodes) - 0.5)\n",
    "        # self.who = (np.random.rand(self.onodes, self.hnodes) - 0.5)\n",
    "        self.wih = np.random.normal(0.0, pow(self.inodes, -0.5), (self.hnodes, self.inodes))\n",
    "        self.who = np.random.normal(0.0, pow(self.hnodes, -0.5), (self.onodes, self.hnodes))\n",
    "\n",
    "        # learning rate\n",
    "        #学习率\n",
    "        self.lr = learningrate\n",
    "        \n",
    "        # activation function is the sigmoid function\n",
    "        self.activation_function = lambda x: scipy.special.expit(x)\n",
    "        \n",
    "        pass\n",
    "\n",
    "    \n",
    "    # train the neural network\n",
    "    def train(self, inputs_list, targets_list):\n",
    "        # convert inputs list to 2d array\n",
    "        # 将维度为(3,)的一维数据，变成维度为(1,3)的二维数据，再转置，变成维度为(3,1)的二维数据\n",
    "        inputs = np.array(inputs_list, ndmin=2).T\n",
    "        targets = np.array(targets_list, ndmin=2).T\n",
    "        \n",
    "        \n",
    "        \n",
    "        \n",
    "        # 前向传播(feedforward)\n",
    "        \n",
    "        # calculate signals into hidden layer\n",
    "        # 计算隐藏层的输入\n",
    "        hidden_inputs = np.dot(self.wih, inputs)\n",
    "        # calculate the signals emerging from hidden layer\n",
    "        # 计算隐藏层的输出\n",
    "        hidden_outputs = self.activation_function(hidden_inputs)\n",
    "        \n",
    "        # calculate signals into final output layer\n",
    "        # 计算最后输出层的输入\n",
    "        final_inputs = np.dot(self.who, hidden_outputs)\n",
    "        # calculate the signals emerging from final output layer\n",
    "        # 计算最后输出层的输出\n",
    "        # 这里使用sigmoid函数不太对，对于多分类问题，并且0-9每一类是互斥的，其实应该使用softmax，\n",
    "        # 不过为了方便起见，就使用sigmoid，不会有太大影响\n",
    "        final_outputs = self.activation_function(final_inputs)\n",
    "        print(\"\\nhidden_outputs shape is:{}\\nfinal_outputs shape is:{}\".format(hidden_outputs.shape,final_outputs.shape))\n",
    "        \n",
    "        \n",
    "        \n",
    "        \n",
    "        # 反向传播(backprop)\n",
    "        \n",
    "        # output layer error is the (target - actual)\n",
    "        # 输出层误差为(targets-final_outputs)\n",
    "        output_errors = targets - final_outputs\n",
    "        # hidden layer error is the output_errors, split by weights, recombined at hidden nodes\n",
    "        hidden_errors = np.dot(self.who.T, output_errors) \n",
    "        print(\"hidden_errors shape is:{}\".format(hidden_errors.shape))\n",
    "        \n",
    "        # update the weights for the links between the hidden and output layers\n",
    "        self.who += self.lr * np.dot((output_errors * final_outputs * (1.0 - final_outputs)), np.transpose(hidden_outputs))\n",
    "        \n",
    "        # update the weights for the links between the input and hidden layers\n",
    "        self.wih += self.lr * np.dot((hidden_errors * hidden_outputs * (1.0 - hidden_outputs)), np.transpose(inputs))\n",
    "        \n",
    "        pass\n",
    "\n",
    "    \n",
    "    # query the neural network\n",
    "    # 查询神经网络，接受输入，返回输出\n",
    "    def query(self, inputs_list):\n",
    "        # convert inputs list to 2d array\n",
    "        # 将维度为(3,)的一维数据，变成维度为(1,3)的二维数据\n",
    "        inputs = np.array(inputs_list, ndmin=2).T\n",
    "        \n",
    "        # calculate signals into hidden layer\n",
    "        hidden_inputs = np.dot(self.wih, inputs)\n",
    "        # calculate the signals emerging from hidden layer\n",
    "        hidden_outputs = self.activation_function(hidden_inputs)\n",
    "        \n",
    "        # calculate signals into final output layer\n",
    "        final_inputs = np.dot(self.who, hidden_outputs)\n",
    "        # calculate the signals emerging from final output layer\n",
    "        final_outputs = self.activation_function(final_inputs)\n",
    "        \n",
    "        return final_outputs"
   ]
  },
  {
   "cell_type": "code",
   "execution_count": 4,
   "metadata": {
    "collapsed": false
   },
   "outputs": [],
   "source": [
    "# number of input, hidden and output nodes\n",
    "# 输入，隐藏，输出层结点个数\n",
    "input_nodes = 3\n",
    "hidden_nodes = 3\n",
    "output_nodes = 3\n",
    "\n",
    "# learning rate is 0.3\n",
    "learning_rate = 0.3\n",
    "\n",
    "# create instance of neural network\n",
    "n = neuralNetwork(input_nodes,hidden_nodes,output_nodes, learning_rate)"
   ]
  },
  {
   "cell_type": "code",
   "execution_count": 5,
   "metadata": {
    "collapsed": false
   },
   "outputs": [
    {
     "data": {
      "text/plain": [
       "array([[0.37815053],\n",
       "       [0.53051953],\n",
       "       [0.38520763]])"
      ]
     },
     "execution_count": 5,
     "metadata": {},
     "output_type": "execute_result"
    }
   ],
   "source": [
    "# test query (doesn't mean anything useful yet)\n",
    "n.query([1.0, 0.5, -1.5])"
   ]
  },
  {
   "cell_type": "code",
   "execution_count": 6,
   "metadata": {
    "collapsed": false
   },
   "outputs": [
    {
     "data": {
      "text/plain": [
       "array([[0.37815053, 0.37815053],\n",
       "       [0.53051953, 0.53051953],\n",
       "       [0.38520763, 0.38520763]])"
      ]
     },
     "execution_count": 6,
     "metadata": {},
     "output_type": "execute_result"
    }
   ],
   "source": [
    "# 维度为(2,3)，每一行代表一个数据，一共两个数据\n",
    "n.query([[1.0, 0.5, -1.5],[1.0,0.5,-1.5]])"
   ]
  },
  {
   "cell_type": "code",
   "execution_count": 7,
   "metadata": {
    "collapsed": false
   },
   "outputs": [
    {
     "data": {
      "text/plain": [
       "array([[0.37815053, 0.37815053, 0.34952995],\n",
       "       [0.53051953, 0.53051953, 0.37573375],\n",
       "       [0.38520763, 0.38520763, 0.47477568]])"
      ]
     },
     "execution_count": 7,
     "metadata": {},
     "output_type": "execute_result"
    }
   ],
   "source": [
    "# 维度为(3,3)，每一行代表一个数据，一共三个数据\n",
    "n.query([[1.0, 0.5, -1.5],[1.0,0.5,-1.5],[1.0,2.0,3.0]])"
   ]
  },
  {
   "cell_type": "code",
   "execution_count": 8,
   "metadata": {
    "collapsed": false
   },
   "outputs": [
    {
     "name": "stdout",
     "output_type": "stream",
     "text": [
      "before train:\n",
      "\n",
      "wih[[ 0.21035666 -0.05310695 -0.682246  ]\n",
      " [ 0.55508667  0.74618038  0.39225083]\n",
      " [ 0.21373902  0.37047822 -0.06060418]]\n",
      "\n",
      "who[[ 0.08457183 -0.03493322 -0.874248  ]\n",
      " [ 0.49910377 -0.88645364  0.4125856 ]\n",
      " [-0.6707314  -0.22307466  0.2888873 ]]\n",
      "\n",
      "hidden_outputs shape is:(3, 2)\n",
      "final_outputs shape is:(3, 2)\n",
      "hidden_errors shape is:(3, 2)\n",
      "\n",
      "after train once:\n",
      "\n",
      "wih[[ 0.21345556 -0.04606043 -0.67676239]\n",
      " [ 0.56864207  0.77662432  0.4159272 ]\n",
      " [ 0.18833664  0.31331145 -0.10506769]]\n",
      "\n",
      "who[[ 0.12342827  0.02111098 -0.82650411]\n",
      " [ 0.4678531  -0.9315208   0.37419244]\n",
      " [-0.69883417 -0.26361695  0.25435014]]\n"
     ]
    }
   ],
   "source": [
    "input_list = [[0.1,0.5,0.4],[0.3,0.4,0.3]]\n",
    "target_list = [[1.0,0,0],[1.0,0,0]]\n",
    "print(\"before train:\\n\")\n",
    "print(\"wih{}\\n\\nwho{}\".format(n.wih,n.who))\n",
    "n.train(input_list,target_list)\n",
    "print(\"\\nafter train once:\\n\")\n",
    "print(\"wih{}\\n\\nwho{}\".format(n.wih,n.who))"
   ]
  },
  {
   "cell_type": "code",
   "execution_count": null,
   "metadata": {
    "collapsed": true
   },
   "outputs": [],
   "source": []
  },
  {
   "cell_type": "code",
   "execution_count": null,
   "metadata": {
    "collapsed": true
   },
   "outputs": [],
   "source": []
  },
  {
   "cell_type": "code",
   "execution_count": null,
   "metadata": {
    "collapsed": true
   },
   "outputs": [],
   "source": []
  },
  {
   "cell_type": "code",
   "execution_count": null,
   "metadata": {
    "collapsed": true
   },
   "outputs": [],
   "source": []
  }
 ],
 "metadata": {
  "anaconda-cloud": {},
  "kernelspec": {
   "display_name": "Python [default]",
   "language": "python",
   "name": "python3"
  },
  "language_info": {
   "codemirror_mode": {
    "name": "ipython",
    "version": 3
   },
   "file_extension": ".py",
   "mimetype": "text/x-python",
   "name": "python",
   "nbconvert_exporter": "python",
   "pygments_lexer": "ipython3",
   "version": "3.5.2"
  }
 },
 "nbformat": 4,
 "nbformat_minor": 1
}
